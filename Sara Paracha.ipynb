{
 "cells": [
  {
   "cell_type": "markdown",
   "metadata": {},
   "source": [
    "### Display Message"
   ]
  },
  {
   "cell_type": "code",
   "execution_count": null,
   "metadata": {},
   "outputs": [],
   "source": [
    "print(\"hello\")"
   ]
  },
  {
   "cell_type": "code",
   "execution_count": null,
   "metadata": {},
   "outputs": [],
   "source": []
  },
  {
   "cell_type": "markdown",
   "metadata": {},
   "source": [
    "### Working with Variables    \n",
    "\n",
    "###### Rules for Identifier:\n",
    "\n",
    "* Identifiers can be a combination of letters in lowercase `(a to z)` or uppercase `(A to Z)` or digits `(0 to 9)` or an underscore`_`.\n",
    "\n",
    "* An identifier cannot start with a digit.\n",
    "\n",
    "* Keywords cannot be used as identifiers.\n",
    "   \n",
    "* We cannot use special symbols like !, @, #, $,etc.\n",
    "\n",
    "* An identifier can be of any length.\n",
    "\n",
    "* Python is a case-sensitive language. This means, Variable and variable are not the same.\n"
   ]
  },
  {
   "cell_type": "code",
   "execution_count": null,
   "metadata": {},
   "outputs": [],
   "source": [
    "# _FRUITS_1_   \n",
    "# 10fruit  \n",
    "# f1r1uit1 \n",
    "\n",
    "\n",
    "\n",
    "# word = 1\n",
    "# Word = 2\n",
    "# WORD = 3\n",
    "\n",
    "# -python   X\n",
    "# _python \n",
    "# 1python \n",
    "# python1 \n",
    "# print "
   ]
  },
  {
   "cell_type": "markdown",
   "metadata": {},
   "source": [
    "###### Defining Variable "
   ]
  },
  {
   "cell_type": "code",
   "execution_count": null,
   "metadata": {},
   "outputs": [],
   "source": [
    "age = 2\n",
    "name = \"Ali\"\n",
    "print(age)\n",
    "name"
   ]
  },
  {
   "cell_type": "markdown",
   "metadata": {},
   "source": [
    "### Data Types"
   ]
  },
  {
   "cell_type": "code",
   "execution_count": null,
   "metadata": {},
   "outputs": [],
   "source": [
    "string(\"q\"), integer(123), float(2.1) , boolean(True/False)"
   ]
  },
  {
   "cell_type": "markdown",
   "metadata": {},
   "source": [
    "### String Manipulation"
   ]
  },
  {
   "cell_type": "code",
   "execution_count": null,
   "metadata": {},
   "outputs": [],
   "source": [
    "fname = \"Daniel\"\n",
    "lname = \"Radcliff\"\n",
    "age = 30"
   ]
  },
  {
   "cell_type": "markdown",
   "metadata": {},
   "source": [
    "#### a) Different Print Methods"
   ]
  },
  {
   "cell_type": "code",
   "execution_count": null,
   "metadata": {},
   "outputs": [],
   "source": [
    "print(\"His first name is \"+fname+\" His last name is \"+lname+\" He is\",age,\"years old\")"
   ]
  },
  {
   "cell_type": "code",
   "execution_count": null,
   "metadata": {},
   "outputs": [],
   "source": [
    "# .format()\n",
    "print(\"His first name is {} His last name is {} He is {} years old\".format(fname,lname,age))"
   ]
  },
  {
   "cell_type": "code",
   "execution_count": null,
   "metadata": {},
   "outputs": [],
   "source": [
    "# f string\n",
    "print(f\"His first name is {fname} His last name is {lname} He is {age} years old\")"
   ]
  },
  {
   "cell_type": "markdown",
   "metadata": {},
   "source": [
    "#### What is the length of the given string?"
   ]
  },
  {
   "cell_type": "code",
   "execution_count": null,
   "metadata": {},
   "outputs": [],
   "source": [
    "len(fname) # Daniel"
   ]
  },
  {
   "cell_type": "markdown",
   "metadata": {},
   "source": [
    "#### b) Concatention"
   ]
  },
  {
   "cell_type": "code",
   "execution_count": null,
   "metadata": {},
   "outputs": [],
   "source": [
    "full_name = fname +\" \"+ lname\n",
    "#full_name = fname , lname, age # expression\n",
    "print(fname , lname, age)\n",
    "name\n"
   ]
  },
  {
   "cell_type": "markdown",
   "metadata": {},
   "source": [
    "#### c) String Copy"
   ]
  },
  {
   "cell_type": "code",
   "execution_count": null,
   "metadata": {},
   "outputs": [],
   "source": [
    "print(\"!\" * 50) \n",
    "\n",
    "50 * \".\""
   ]
  },
  {
   "cell_type": "markdown",
   "metadata": {},
   "source": [
    "#### d) Changing case"
   ]
  },
  {
   "cell_type": "code",
   "execution_count": null,
   "metadata": {},
   "outputs": [],
   "source": [
    "l = full_name.lower()\n",
    "u = full_name.upper()\n",
    "c = l.title()\n",
    "\"HeLLo WoRlD\".swapcase()"
   ]
  },
  {
   "cell_type": "code",
   "execution_count": null,
   "metadata": {},
   "outputs": [],
   "source": [
    "\"FAJITA\"  # program\n",
    "\n",
    "\n",
    "\n",
    "\"fajita\".upper() # user inp\n",
    "\n"
   ]
  },
  {
   "cell_type": "code",
   "execution_count": null,
   "metadata": {},
   "outputs": [],
   "source": [
    "#Reassign str so that, all its characters are lowercase.\n",
    "\n",
    "str=\"EVERY Strike Brings Me Closer to the Next Home run.\"\n",
    "\n",
    "# Type your code here.\n",
    "\n",
    "\n",
    "print(str)\n"
   ]
  },
  {
   "cell_type": "code",
   "execution_count": null,
   "metadata": {},
   "outputs": [],
   "source": [
    "# Now take the original string swap all the cases\n",
    "\n",
    "# Type your code here"
   ]
  },
  {
   "cell_type": "markdown",
   "metadata": {},
   "source": [
    "#### e) Replace a string"
   ]
  },
  {
   "cell_type": "code",
   "execution_count": null,
   "metadata": {},
   "outputs": [],
   "source": [
    "val =  \"Python is my first programming language\"\n",
    "n_val = val.replace(\"first\", \"2nd\")\n",
    "print(val ,\"\\n\",n_val)"
   ]
  },
  {
   "cell_type": "code",
   "execution_count": null,
   "metadata": {},
   "outputs": [],
   "source": [
    "#Replace the (.) with (!)\n",
    "\n",
    "str=\"It's always darkest before dawn.\"\n",
    "\n",
    "#Type your code here.\n",
    "str = str.replace(\".\" , \"!\")\n",
    "\n",
    "print(str)\n"
   ]
  },
  {
   "cell_type": "markdown",
   "metadata": {},
   "source": [
    "#### f) Find a String"
   ]
  },
  {
   "cell_type": "code",
   "execution_count": null,
   "metadata": {},
   "outputs": [],
   "source": [
    "str.find(\"darkest\")"
   ]
  },
  {
   "cell_type": "code",
   "execution_count": null,
   "metadata": {},
   "outputs": [],
   "source": [
    "# Try to see what results you get looking for character: (X). First with .find() method and then with .index() method.\n",
    "\n",
    "\n",
    "#  Type your code here.\n",
    "\n",
    "ans_1=\n",
    "\n",
    "print(ans_1)"
   ]
  },
  {
   "cell_type": "markdown",
   "metadata": {},
   "source": [
    "#### g) Remove and Add Whitespaces"
   ]
  },
  {
   "cell_type": "code",
   "execution_count": null,
   "metadata": {},
   "outputs": [],
   "source": [
    "fruit = \"     apple    \"\n",
    "new = fruit.strip(\" \")"
   ]
  },
  {
   "cell_type": "code",
   "execution_count": null,
   "metadata": {},
   "outputs": [],
   "source": [
    "# adding space\n",
    "letter = \"e\"\n",
    "letter.center(3)\n",
    "letter.ljust(3)\n",
    "letter.rjust(10)"
   ]
  },
  {
   "cell_type": "markdown",
   "metadata": {},
   "source": [
    "#### h) Split String"
   ]
  },
  {
   "cell_type": "code",
   "execution_count": null,
   "metadata": {},
   "outputs": [],
   "source": [
    "user = \"Pizza, Burger, Sandwich\"\n",
    "user.split(\", \")\n"
   ]
  },
  {
   "cell_type": "markdown",
   "metadata": {},
   "source": [
    "# Practice\n",
    "<img src=\"t1.png\">"
   ]
  },
  {
   "cell_type": "markdown",
   "metadata": {},
   "source": [
    "#### i) Indexing & Slicing"
   ]
  },
  {
   "cell_type": "code",
   "execution_count": null,
   "metadata": {},
   "outputs": [],
   "source": [
    "val =  \"Python is my first programming language\"\n",
    "\n",
    "#val[start:stop-1:step_size(optional)]\n",
    "\n",
    "val[0:6]  \n",
    "val[13:]    # : range \n",
    "val[:18:3]\n",
    "#val[3:5]  #indexing\n",
    "\n",
    "#val[-20: ]\n",
    "\n"
   ]
  },
  {
   "cell_type": "code",
   "execution_count": null,
   "metadata": {},
   "outputs": [],
   "source": [
    "# Display the even numbers from 1-21 stored in a string format\n",
    "\n",
    "num = #Type your code here\n",
    "\n",
    "even_num = #Type your code here\n",
    "\n",
    "even_num"
   ]
  },
  {
   "cell_type": "code",
   "execution_count": null,
   "metadata": {},
   "outputs": [],
   "source": [
    "# Display the odd numbers from 1-21 stored in a string format\n",
    "\n",
    "num = #Type your code here\n",
    "\n",
    "odd_num = #Type your code here\n",
    "\n",
    "odd_num"
   ]
  },
  {
   "cell_type": "markdown",
   "metadata": {},
   "source": [
    "### User Input"
   ]
  },
  {
   "cell_type": "code",
   "execution_count": null,
   "metadata": {},
   "outputs": [],
   "source": [
    "num = input(\"Enter numbers with space between them: \").split(\" \")\n",
    "num"
   ]
  },
  {
   "cell_type": "markdown",
   "metadata": {},
   "source": [
    "### Converting Data Types\n",
    "\n",
    "#### Type Casting"
   ]
  },
  {
   "cell_type": "code",
   "execution_count": null,
   "metadata": {},
   "outputs": [],
   "source": [
    "bol = True\n",
    "#int(bol)   XX\n",
    "st = str(bol)  #\"True\"  -> True   , \"False\"  -> False\n",
    "#bool(st)\n",
    "#bool(\" \")\n",
    "num = 2\n",
    "float(2)\n",
    "str(num)\n",
    "\n",
    "deci = 3.56\n",
    "int(deci)\n",
    "#str(deci)"
   ]
  },
  {
   "cell_type": "markdown",
   "metadata": {},
   "source": [
    "### Mathematical Operations"
   ]
  },
  {
   "cell_type": "markdown",
   "metadata": {},
   "source": [
    "**Task:** Write a program, thаt prompts the uѕеr fоr twо integers, аnd then рrintѕ thеm оut in a sentence with an intеgеr division рrоblеm likе The ԛuоtiеnt оf 14 and 3 iѕ 4 with a rеmаindеr оf 2"
   ]
  },
  {
   "cell_type": "code",
   "execution_count": null,
   "metadata": {},
   "outputs": [],
   "source": [
    "# PEDMAS\n",
    "# ()**/%*+-\n",
    "\n",
    "\n",
    "2**((4+3)/2)"
   ]
  },
  {
   "cell_type": "markdown",
   "metadata": {},
   "source": [
    "### Getting Started with List\n",
    "#### a) Declaring list\n"
   ]
  },
  {
   "cell_type": "code",
   "execution_count": null,
   "metadata": {},
   "outputs": [],
   "source": [
    "groccery = [2, \"2 Eggs\", 2.5 , \"Milk Pack\" , True]\n",
    "type(groccery)"
   ]
  },
  {
   "cell_type": "markdown",
   "metadata": {},
   "source": [
    "#### b) Declaring List of Mix Elements"
   ]
  },
  {
   "cell_type": "code",
   "execution_count": null,
   "metadata": {},
   "outputs": [],
   "source": [
    "groccery = [2, \"2 Eggs\", 2.5 , \"Milk Pack\" , True , False,1 ,2 ,3 ,4,5,6, 7]\n",
    "groccery"
   ]
  },
  {
   "cell_type": "markdown",
   "metadata": {},
   "source": [
    "#### c) Accessing Elements in a List\n"
   ]
  },
  {
   "cell_type": "code",
   "execution_count": null,
   "metadata": {},
   "outputs": [],
   "source": [
    "movies  = [\"Harry Potter\", \"Beauty and the beast\", \"Lupin\" , 5 , \"Money Heist\" ]\n",
    "#movies.index(\"Lupin\")"
   ]
  },
  {
   "cell_type": "markdown",
   "metadata": {},
   "source": [
    "#### d) Modifying Elements in a List\n",
    "\n",
    "##### - Changing Values in a List"
   ]
  },
  {
   "cell_type": "code",
   "execution_count": null,
   "metadata": {},
   "outputs": [],
   "source": [
    "#movies[1].replace(\"Beauty and the beast\" , \"Scooby Doo\")\n",
    "movies[3] = \"Conjuring\"\n",
    "movies[3:6] = \"Frozen\" , \"Dhamal\" , \"DDLJ\"\n",
    "movies"
   ]
  },
  {
   "cell_type": "markdown",
   "metadata": {},
   "source": [
    "### e) Adding Elements to a List\n",
    "#### - Appending Elements to the End of a List"
   ]
  },
  {
   "cell_type": "code",
   "execution_count": null,
   "metadata": {},
   "outputs": [],
   "source": [
    "movies.append(\"New value\")\n",
    "movies"
   ]
  },
  {
   "cell_type": "markdown",
   "metadata": {},
   "source": [
    "#### - Inserting Elements into a List"
   ]
  },
  {
   "cell_type": "code",
   "execution_count": null,
   "metadata": {},
   "outputs": [],
   "source": [
    "movies.insert(6 , \"Dragon Tales\")\n",
    "movies"
   ]
  },
  {
   "cell_type": "markdown",
   "metadata": {},
   "source": [
    "### f) Removing Elements from a List\n",
    "#### - Removing an Item Using the del Statement\n",
    "\n",
    "1) del \n",
    "\n",
    "2) pop()\n",
    "\n",
    "3) remove()\n",
    "\n",
    "4) clear()"
   ]
  },
  {
   "cell_type": "code",
   "execution_count": null,
   "metadata": {},
   "outputs": [],
   "source": [
    "del movies[7]"
   ]
  },
  {
   "cell_type": "code",
   "execution_count": null,
   "metadata": {},
   "outputs": [],
   "source": [
    "movies"
   ]
  },
  {
   "cell_type": "markdown",
   "metadata": {},
   "source": [
    "#### - Removing an Item Using the pop() Method"
   ]
  },
  {
   "cell_type": "code",
   "execution_count": null,
   "metadata": {},
   "outputs": [],
   "source": [
    "last_movie = movies.pop()"
   ]
  },
  {
   "cell_type": "markdown",
   "metadata": {},
   "source": [
    "#### - Popping Items from any Position in a List"
   ]
  },
  {
   "cell_type": "code",
   "execution_count": null,
   "metadata": {},
   "outputs": [],
   "source": [
    "movies"
   ]
  },
  {
   "cell_type": "code",
   "execution_count": null,
   "metadata": {},
   "outputs": [],
   "source": [
    "bollywood = movies.pop(-2)\n",
    "print(f\"{bollywood} is a bollywood movie\")\n"
   ]
  },
  {
   "cell_type": "markdown",
   "metadata": {},
   "source": [
    "#### - Removing an Item by Value using remove() Method"
   ]
  },
  {
   "cell_type": "code",
   "execution_count": null,
   "metadata": {
    "scrolled": true
   },
   "outputs": [],
   "source": [
    "movies.remove(\"Dhamal\")"
   ]
  },
  {
   "cell_type": "code",
   "execution_count": null,
   "metadata": {},
   "outputs": [],
   "source": [
    "del movies[:] # deletes the whole list from memory"
   ]
  },
  {
   "cell_type": "code",
   "execution_count": null,
   "metadata": {},
   "outputs": [],
   "source": [
    "movies.clear()"
   ]
  },
  {
   "cell_type": "code",
   "execution_count": null,
   "metadata": {},
   "outputs": [],
   "source": [
    "movies"
   ]
  },
  {
   "cell_type": "markdown",
   "metadata": {},
   "source": [
    "## List Practice Task\n",
    "**1a. Guest List:**\n",
    "\n",
    "If you could invite anyone, to dinner, who would you invite? Make a list that includes at least three people you’d like to invite to dinner. Then use your list to print a message to each person, inviting them to dinner."
   ]
  },
  {
   "cell_type": "code",
   "execution_count": null,
   "metadata": {},
   "outputs": [],
   "source": []
  },
  {
   "cell_type": "markdown",
   "metadata": {},
   "source": [
    "**1b. Changing Guest List:**\n",
    "\n",
    "You just heard that one of your guests can’t make the dinner, so you need to send out a new set of invitations. You’ll have to think of someone else to invite.\n",
    "\n",
    "Start with your program from Exercise 1a. Add a print statement at the end of your program stating the name of the guest who can’t make it.\n",
    "Modify your list, replacing the name of the guest who can’t make it with the name of the new person you are inviting.\n",
    "Print a second set of invitation messages, one for each person who is still in your list."
   ]
  },
  {
   "cell_type": "code",
   "execution_count": null,
   "metadata": {},
   "outputs": [],
   "source": []
  },
  {
   "cell_type": "markdown",
   "metadata": {},
   "source": [
    "**1c. More Guests:**\n",
    "\n",
    "You just found a bigger dinner table, so now more space is available. Think of three more guests to invite to dinner.\n",
    "\n",
    "Start with your program from Exercise 1a or Exercise 1b. Add a print statement to the end of your program informing people that you found a bigger dinner table.\n",
    "Add one new guest to the beginning of your list.\n",
    "Add one new guest to the middle of your list.\n",
    "Add one new guest to the end of your list.\n",
    "Print a new set of invitation messages, one for each person in your list."
   ]
  },
  {
   "cell_type": "code",
   "execution_count": null,
   "metadata": {},
   "outputs": [],
   "source": []
  },
  {
   "cell_type": "markdown",
   "metadata": {},
   "source": [
    "**1d. Shrinking Guest List:**\n",
    "\n",
    "You just found out that your new dinner table won’t arrive in time for the dinner, and you have space for only two guests.\n",
    "\n",
    "Start with your program from Exercise 1c. Add a new line that prints a message saying that you can invite only two people for dinner.\n",
    "Use pop() to remove guests from your list one at a time until only two names remain in your list. Each time you pop a name from your list, print a message to that person letting them know you’re sorry you can’t invite them to dinner.\n",
    "Print a message to each of the two people still on your list, letting them know they’re still invited.\n",
    "Use del to remove the last two names from your list, so you have an empty list. Print your list to make sure you actually have an empty list at the end of your program."
   ]
  },
  {
   "cell_type": "code",
   "execution_count": null,
   "metadata": {},
   "outputs": [],
   "source": []
  },
  {
   "cell_type": "markdown",
   "metadata": {},
   "source": [
    "### Copy List"
   ]
  },
  {
   "cell_type": "code",
   "execution_count": null,
   "metadata": {},
   "outputs": [],
   "source": [
    "new_movies = movies[:]\n",
    "new_movies is movies"
   ]
  },
  {
   "cell_type": "code",
   "execution_count": null,
   "metadata": {},
   "outputs": [],
   "source": [
    "new_movies[3] = \"Deep sea\"\n",
    "print(new_movies)\n",
    "print(movies)"
   ]
  },
  {
   "cell_type": "code",
   "execution_count": null,
   "metadata": {},
   "outputs": [],
   "source": [
    "#2D = RxC\n",
    "student1 = [[\"Sarah\" , \"Data Science\" , \"5th\"], [\"Subhan\" , \"CS\" , \"2nd\"], [\"Rafay\" , \"BA\" , \"8th\"]]\n",
    "student1[2][2]\n"
   ]
  },
  {
   "cell_type": "markdown",
   "metadata": {},
   "source": [
    "##### Task:\n",
    "Add item 7000 after 6000 in the following Python List\n",
    "Given:\n"
   ]
  },
  {
   "cell_type": "code",
   "execution_count": null,
   "metadata": {},
   "outputs": [],
   "source": [
    "list1 = [10, 20, [300, 400, [5000, 6000], 500], 30, 40]\n",
    "list1[2][2].append(7000)\n",
    "list1[2][2].insert(1,8000)\n",
    "list1"
   ]
  },
  {
   "cell_type": "markdown",
   "metadata": {},
   "source": [
    "#### Task:\n",
    "Given a nested list extend it by adding the sub list [\"h\", \"i\", \"j\"] in such a way that it will look like the following list\n",
    "Given List:\n",
    "\n",
    "list1 = [\"a\", \"b\", [\"c\", [\"d\", \"e\", [\"f\", \"g\" , [\"h\", \"i\", \"j\"]], \"k\"], \"l\"], \"m\", \"n\"]"
   ]
  },
  {
   "cell_type": "code",
   "execution_count": null,
   "metadata": {},
   "outputs": [],
   "source": [
    "list1 = [\"a\", \"b\", [\"c\", [\"d\", \"e\", [\"f\", \"g\"], \"k\"], \"l\"], \"m\", \"n\"]\n",
    "list1[2][1][2].insert(2,[\"h\", \"i\", \"j\"]) #[\"h\", \"i\", \"j\"]\n",
    "list1"
   ]
  },
  {
   "cell_type": "markdown",
   "metadata": {},
   "source": [
    "#### Task\n",
    "Given 2D array calculate the sum of diagonal elements.\n",
    "\n",
    "Ex: [[1,3,5],[1,4,6],[7,6,9] => sum of 1 + 4 + 9 => 14\n",
    "\n",
    " "
   ]
  },
  {
   "cell_type": "code",
   "execution_count": null,
   "metadata": {},
   "outputs": [],
   "source": []
  },
  {
   "cell_type": "markdown",
   "metadata": {},
   "source": [
    "### GETTING STARTED WITH <font size = 5 color = brown>DICTIONARIES</font>:"
   ]
  },
  {
   "cell_type": "code",
   "execution_count": null,
   "metadata": {},
   "outputs": [],
   "source": [
    "#General Syntax {(key)index: Value}"
   ]
  },
  {
   "cell_type": "code",
   "execution_count": null,
   "metadata": {},
   "outputs": [],
   "source": [
    "ages = {\"age1\" : 25 , 'age2' : 35 , 'age1' : 50 }\n",
    "\n",
    "ages\n",
    "\n"
   ]
  },
  {
   "cell_type": "code",
   "execution_count": null,
   "metadata": {},
   "outputs": [],
   "source": [
    "ages = {True : 25 , False : 35 , 3.2 : 50 }\n",
    "ages[False]"
   ]
  },
  {
   "cell_type": "code",
   "execution_count": null,
   "metadata": {},
   "outputs": [],
   "source": [
    "ages = {\"age1\" :\"Twenty Five\" , 'age2' : 35}\n",
    "ages['age1']"
   ]
  },
  {
   "cell_type": "code",
   "execution_count": null,
   "metadata": {},
   "outputs": [],
   "source": [
    "[dict , dict , dict]\n",
    "\n",
    "[1,2,3,4]"
   ]
  },
  {
   "cell_type": "code",
   "execution_count": null,
   "metadata": {},
   "outputs": [],
   "source": [
    "contacts = [\n",
    "    \n",
    "            {\"name\" : \"Sadia\" , \n",
    "            \"c__no\" : \"+923488697\",\n",
    "            \"email\" : \"sadia@gmail.com\",\n",
    "            \"dob\" : \"4-April-2002\"},\n",
    "    \n",
    "    \n",
    "             {\"name\" : \"Adnan\" , \n",
    "            \"c__no\" : \"+923488697\",\n",
    "            \"email\" : \"adnan@gmail.com\",\n",
    "            \"dob\" : \"4-April-2009\"}\n",
    "]\n",
    "contacts[1][\"email\"]"
   ]
  },
  {
   "cell_type": "code",
   "execution_count": null,
   "metadata": {},
   "outputs": [],
   "source": [
    "contacts = {\n",
    "    \"Sadia\" : {\"name\" : \"Sadia\" , \n",
    "            \"c__no\" : \"+923488697\",\n",
    "            \"email\" : \"sadia@gmail.com\",\n",
    "            \"dob\" : \"4-April-2002\"} , \n",
    "    \n",
    "    \n",
    "    \"Adnan\" : [\"Adnan\" ,  \"+923488697\", \"adnan@gmail.com\",\"4-April-2009\"]\n",
    "    \n",
    "}\n",
    "\n",
    "contacts[\"Sadia\"][\"c__no\"]"
   ]
  },
  {
   "cell_type": "code",
   "execution_count": null,
   "metadata": {},
   "outputs": [],
   "source": [
    "\n",
    "            {\"name\" : \"Sadia\" , \n",
    "            \"c__no\" : \"+923488697\",\n",
    "            \"email\" : \"sadia@gmail.com\",\n",
    "            \"dob\" : \"4-April-2002\"},\n",
    "    \n",
    "    \n",
    "             {\"name\" : \"Adnan\" , \n",
    "            \"c__no\" : \"+923488697\",\n",
    "            \"email\" : \"adnan@gmail.com\",\n",
    "            \"dob\" : \"4-April-2009\"}"
   ]
  },
  {
   "cell_type": "code",
   "execution_count": 19,
   "metadata": {},
   "outputs": [
    {
     "name": "stdout",
     "output_type": "stream",
     "text": [
      "15\n"
     ]
    },
    {
     "data": {
      "text/plain": [
       "[{'color': 'green', 'points': 5, 'speed': 'slow'},\n",
       " {'color': 'green', 'points': 5, 'speed': 'slow'},\n",
       " {'color': 'green', 'points': 5, 'speed': 'slow'},\n",
       " {'color': 'green', 'points': 5, 'speed': 'slow'},\n",
       " {'color': 'green', 'points': 5, 'speed': 'slow'},\n",
       " {'color': 'yellow', 'points': 10, 'speed': 'medium'},\n",
       " {'color': 'yellow', 'points': 10, 'speed': 'medium'},\n",
       " {'color': 'yellow', 'points': 10, 'speed': 'medium'},\n",
       " {'color': 'yellow', 'points': 10, 'speed': 'medium'},\n",
       " {'color': 'yellow', 'points': 10, 'speed': 'medium'},\n",
       " {'color': 'red', 'points': 15, 'speed': 'fast'},\n",
       " {'color': 'red', 'points': 15, 'speed': 'fast'},\n",
       " {'color': 'red', 'points': 15, 'speed': 'fast'},\n",
       " {'color': 'red', 'points': 15, 'speed': 'fast'},\n",
       " {'color': 'red', 'points': 15, 'speed': 'fast'}]"
      ]
     },
     "execution_count": 19,
     "metadata": {},
     "output_type": "execute_result"
    }
   ],
   "source": [
    "# Level 1 \n",
    "new_aliens = []\n",
    "\n",
    "\n",
    "for num in range(15):\n",
    "    al = {\"color\" : \"green\" , \"points\" : 5 , \"speed\" : \"slow\"}\n",
    "    new_aliens.append(al)\n",
    "print(len(new_aliens))\n",
    "#level 2\n",
    "for x in new_aliens[5:]:\n",
    "    x['color'] = 'yellow'\n",
    "    x['points'] = 10\n",
    "    x['speed'] = 'medium'\n",
    "    \n",
    "#level 3\n",
    "\n",
    "for x in new_aliens[10:]:\n",
    "    x['color'] = 'red'\n",
    "    x['points'] = 15\n",
    "    x['speed'] = 'fast'\n",
    "    \n",
    "\n",
    "\n",
    "new_aliens"
   ]
  },
  {
   "cell_type": "markdown",
   "metadata": {},
   "source": [
    "#### a)  Delete Elements:"
   ]
  },
  {
   "cell_type": "code",
   "execution_count": 21,
   "metadata": {},
   "outputs": [
    {
     "data": {
      "text/plain": [
       "{'color': 'red', 'speed': 'fast'}"
      ]
     },
     "execution_count": 21,
     "metadata": {},
     "output_type": "execute_result"
    }
   ],
   "source": [
    "del al['points']\n",
    "al"
   ]
  },
  {
   "cell_type": "code",
   "execution_count": 24,
   "metadata": {},
   "outputs": [],
   "source": [
    "al['points']  =  15\n",
    "al[\"size\"]  = 'small'\n",
    "al[\"size\"] = 'large'"
   ]
  },
  {
   "cell_type": "code",
   "execution_count": 25,
   "metadata": {},
   "outputs": [
    {
     "data": {
      "text/plain": [
       "{'color': 'red', 'speed': 'fast', 'points': 15, 'size': 'large'}"
      ]
     },
     "execution_count": 25,
     "metadata": {},
     "output_type": "execute_result"
    }
   ],
   "source": [
    "al"
   ]
  },
  {
   "cell_type": "code",
   "execution_count": 18,
   "metadata": {
    "scrolled": true
   },
   "outputs": [
    {
     "name": "stdout",
     "output_type": "stream",
     "text": [
      "Index:0 | value : z\n",
      "Index:1 | value : x\n",
      "Index:2 | value : c\n",
      "Index:3 | value : v\n",
      "Index:4 | value : m\n",
      "Index:5 | value : v\n",
      "Index:6 | value : h\n",
      "Index:7 | value : f\n",
      "Index:8 | value : j\n",
      "Index:9 | value : h\n",
      "Index:10 | value : g\n",
      "Index:11 | value : j\n",
      "Index:12 | value : h\n",
      "Index:13 | value : k\n",
      "Index:14 | value : l\n",
      "Index:15 | value : j\n",
      "Index:16 | value : k\n",
      "Index:17 | value : u\n",
      "Index:18 | value : i\n"
     ]
    }
   ],
   "source": [
    "var = 'zxcvmvhfjhgjhkljkui'\n",
    "\n",
    "for ind in range(len(var)):\n",
    "    print(f'Index:{ind} | value : {var[ind]}' , end=\"\\n\")"
   ]
  },
  {
   "cell_type": "code",
   "execution_count": 12,
   "metadata": {},
   "outputs": [
    {
     "data": {
      "text/plain": [
       "19"
      ]
     },
     "execution_count": 12,
     "metadata": {},
     "output_type": "execute_result"
    }
   ],
   "source": [
    "len('zxcvmvhfjhgjhkljkui')"
   ]
  },
  {
   "cell_type": "markdown",
   "metadata": {},
   "source": [
    "#### b) Insert Element:"
   ]
  },
  {
   "cell_type": "code",
   "execution_count": null,
   "metadata": {},
   "outputs": [],
   "source": []
  },
  {
   "cell_type": "markdown",
   "metadata": {},
   "source": [
    "#### c) Accessing Keys and Values Separately: "
   ]
  },
  {
   "cell_type": "code",
   "execution_count": 34,
   "metadata": {},
   "outputs": [
    {
     "name": "stdout",
     "output_type": "stream",
     "text": [
      "Keys: color\n",
      "Keys: speed\n",
      "Keys: points\n",
      "Keys: size\n",
      "Values: red\n",
      "Values: fast\n",
      "Values: 15\n",
      "Values: large\n",
      "Keys: color , Values: red\n",
      "Keys: speed , Values: fast\n",
      "Keys: points , Values: 15\n",
      "Keys: size , Values: large\n"
     ]
    }
   ],
   "source": [
    "k = al.keys()\n",
    "for k in al.keys():\n",
    "    print(f\"Keys: {k}\")\n",
    "\n",
    "    \n",
    "for v in al.values():\n",
    "    print(f\"Values: {v}\")\n",
    "    \n",
    "for k,v in al.items():\n",
    "    print(f\"Keys: {k} , Values: {v}\")"
   ]
  },
  {
   "cell_type": "markdown",
   "metadata": {},
   "source": [
    "### Practice Task 1:\n",
    "\n",
    "Luke Skywalker has family and friends. Help him remind them who is who. Given a string with a name, return the relation of that person to Luke.\n",
    "\n",
    "| Person | Relation |\n",
    "|:--- | --- | \n",
    "|Darth Vader | father|\n",
    "|Leia\t|sister|\n",
    "|Han\t|brother in law|\n",
    "|R2D2\t|droid|\n",
    "\n",
    "##### Output:\n",
    "relation_to_luke(\"Darth Vader\") ➞ \"Luke, I am your father.\"\n",
    "\n",
    "relation_to_luke(\"Leia\") ➞ \"Luke, I am your sister.\"\n",
    "\n",
    "relation_to_luke(\"Han\") ➞ \"Luke, I am your brother in law.\""
   ]
  },
  {
   "cell_type": "code",
   "execution_count": null,
   "metadata": {},
   "outputs": [],
   "source": []
  },
  {
   "cell_type": "markdown",
   "metadata": {},
   "source": [
    "### Practice Task 2:\n",
    "\n",
    "When was Plato born?"
   ]
  },
  {
   "cell_type": "code",
   "execution_count": null,
   "metadata": {},
   "outputs": [],
   "source": [
    "dict={\"name\": \"Plato\", \"country\": \"Ancient Greece\", \"born\": -427, \"teacher\": \"Socrates\", \"student\": \"Aristotle\"}\n",
    "\n",
    "#Type your answer below.\n",
    "answer_1=\n",
    "\n",
    "print(answer_1)"
   ]
  },
  {
   "cell_type": "markdown",
   "metadata": {},
   "source": [
    "### Practice Task 3:\n",
    "Change Plato's birth year from B.C. 427 to B.C. 428."
   ]
  },
  {
   "cell_type": "code",
   "execution_count": null,
   "metadata": {},
   "outputs": [],
   "source": []
  },
  {
   "cell_type": "markdown",
   "metadata": {},
   "source": [
    "### Practice Task 4:\n",
    "Try to add the key \"work\" to dict with values shown below.\n",
    "\n",
    "\"work\": [\"Apology\", \"Phaedo\", \"Republic\", \"Symposium\"]"
   ]
  },
  {
   "cell_type": "markdown",
   "metadata": {},
   "source": []
  },
  {
   "cell_type": "markdown",
   "metadata": {},
   "source": [
    "### Practice Task 5:\n",
    "• Think of five programming words you’ve learned. Use these words as the keys in your glossary, and store their meanings as values.\n",
    "\n",
    "• Print each word and its meaning as neatly formatted output. You might print the word followed by a colon and then its meaning, or print the word on one line and then print its meaning indented on a second line. Use the newline character (\\n) to insert a blank line between each word-meaning pair in your output"
   ]
  },
  {
   "cell_type": "code",
   "execution_count": null,
   "metadata": {},
   "outputs": [],
   "source": []
  },
  {
   "cell_type": "markdown",
   "metadata": {},
   "source": [
    "### Practice Task 6\n",
    "Make a dictionary called cities.\n",
    "\n",
    "Use the names of three cities as keys in your dictionary.\n",
    "Create a dictionary of information about each city and include the country that the city is in, its approximate population, and one fact about that city.\n",
    "The keys for each city’s dictionary should be something like country, population, and fact. Print the name of each city and all of the information you have stored about it."
   ]
  },
  {
   "cell_type": "code",
   "execution_count": null,
   "metadata": {},
   "outputs": [],
   "source": []
  },
  {
   "cell_type": "markdown",
   "metadata": {},
   "source": [
    "# Conditional Statement (If-elif- else)"
   ]
  },
  {
   "cell_type": "code",
   "execution_count": 6,
   "metadata": {
    "scrolled": true
   },
   "outputs": [
    {
     "name": "stdout",
     "output_type": "stream",
     "text": [
      "Enter your age: 2\n",
      "I am outside the if body\n"
     ]
    }
   ],
   "source": [
    "age = int(input(\"Enter your age: \"))\n",
    "if age > 18:\n",
    "    print(\"You are eligible for a ride\")\n",
    "else:    \n",
    "    print(\"I am outside the if body\")    \n",
    "    "
   ]
  },
  {
   "cell_type": "code",
   "execution_count": null,
   "metadata": {},
   "outputs": [],
   "source": []
  },
  {
   "cell_type": "markdown",
   "metadata": {},
   "source": [
    "#### Checking Inclusion – Part 1: \n",
    "Ask the user for input, and check to see if what\n",
    "they wrote includes an **\"es\"**"
   ]
  },
  {
   "cell_type": "code",
   "execution_count": null,
   "metadata": {},
   "outputs": [],
   "source": []
  },
  {
   "cell_type": "markdown",
   "metadata": {},
   "source": [
    "#### Checking Inclusion – Part 1:\n",
    "Ask the user for input, and check to see if what they wrote has an **ing** at the end"
   ]
  },
  {
   "cell_type": "code",
   "execution_count": null,
   "metadata": {},
   "outputs": [],
   "source": []
  },
  {
   "cell_type": "markdown",
   "metadata": {},
   "source": [
    "#### Returning Exponents: \n",
    "Ask for the user to input a number, and return that\n",
    "number squared if it is lower than 10"
   ]
  },
  {
   "cell_type": "code",
   "execution_count": null,
   "metadata": {},
   "outputs": [],
   "source": []
  },
  {
   "cell_type": "markdown",
   "metadata": {},
   "source": [
    "#### User Input:\n",
    "Ask the user to input the time of day in military time without a\n",
    "colon (1100 = 11:00 AM). Write a conditional statement so that it outputs the\n",
    "following:\n",
    "\n",
    "a. “Good Morning” if less than 1200\n",
    "\n",
    "b. “Good Afternoon” if between 1200 and 1700\n",
    "\n",
    "c.\t“Good Evening” if equal or above 1700"
   ]
  },
  {
   "cell_type": "code",
   "execution_count": null,
   "metadata": {},
   "outputs": [],
   "source": []
  },
  {
   "cell_type": "markdown",
   "metadata": {},
   "source": [
    "#### Age Group:\n",
    "Ask the user to input their age. Depending on their input, output one of the following groups:\n",
    "\n",
    "a.\tBetween 0 and 12 = “Kid”\n",
    "\n",
    "b.\tBetween 13 and 19 = “Teenager”\n",
    "\n",
    "c.\tBetween 20 and 30 = “Young Adult”\n",
    "\n",
    "d.\tBetween 31 and 64 = “Adult”\n",
    "\n",
    "e.\t65 or above = “Senior”"
   ]
  },
  {
   "cell_type": "code",
   "execution_count": null,
   "metadata": {},
   "outputs": [],
   "source": []
  },
  {
   "cell_type": "markdown",
   "metadata": {},
   "source": [
    "#### Remove Duplicates: \n",
    "Remove all duplicates from the list below. hint: Use the.count() method. the output should be **[‘Bob’, ‘Kenny’, ‘Amanda’]**\n",
    "> names = ['Bob', 'Kenny', 'Amanda', 'Bob', 'Kenny']"
   ]
  },
  {
   "cell_type": "code",
   "execution_count": null,
   "metadata": {},
   "outputs": [],
   "source": []
  },
  {
   "cell_type": "markdown",
   "metadata": {},
   "source": [
    "## WHILE LOOP\n",
    "\n",
    "- What is the difference between **FOR** and **WHILE** loop? When to use What?"
   ]
  },
  {
   "cell_type": "code",
   "execution_count": 7,
   "metadata": {
    "scrolled": true
   },
   "outputs": [
    {
     "name": "stdout",
     "output_type": "stream",
     "text": [
      "1\n",
      "2\n"
     ]
    }
   ],
   "source": [
    "l = [1,2,3,4]\n",
    "for i in range(5):\n",
    "    if i == 3:\n",
    "        break\n",
    "    else:\n",
    "        print(i)"
   ]
  },
  {
   "cell_type": "code",
   "execution_count": 6,
   "metadata": {},
   "outputs": [
    {
     "name": "stdout",
     "output_type": "stream",
     "text": [
      "Would you like to order something else (Press q if you dont want to order):Q\n",
      "\n",
      "\n",
      "\n",
      " FINAL \n",
      "You have ordered a pizza of 3 size \n",
      " with sides: \n",
      " was\n"
     ]
    }
   ],
   "source": [
    "# flavor = input(\"Which flavor of Pizza would you like to order: \")\n",
    "# size = input(\"\"\"Enter the size: \n",
    "#              1. Regular\n",
    "#              2. Small\n",
    "#              3. Large\n",
    "# \"\"\")\n",
    "\n",
    "termination = \"\"\n",
    "#termination = input(\"Would you like to order something else (Press q if you dont want to order):\")\n",
    "\n",
    "\n",
    "while termination != 'q':\n",
    "    termination = input(\"Would you like to order something else (Press q if you dont want to order):\").lower()\n",
    "    \n",
    "    \n",
    "print(\"\\n\\n\\n FINAL \")    \n",
    "print(f\"You have ordered {flavor} pizza of {size} size \\n with sides: \\n {order}\")\n"
   ]
  },
  {
   "cell_type": "code",
   "execution_count": 11,
   "metadata": {},
   "outputs": [
    {
     "name": "stdout",
     "output_type": "stream",
     "text": [
      "1\n",
      "2\n",
      "3\n",
      "4\n",
      "5\n",
      "6\n",
      "7\n",
      "8\n",
      "9\n",
      "\n",
      "\n",
      " FOR LOOP CODE OUTPUT\n",
      "2\n",
      "4\n",
      "6\n",
      "8\n"
     ]
    }
   ],
   "source": [
    "i = 1\n",
    "while i<10:\n",
    "    print(i)\n",
    "    i = i + 1\n",
    "    \n",
    "print(\"\\n\\n FOR LOOP CODE OUTPUT\")\n",
    "    \n",
    "for i in range(1,10):\n",
    "    if i == 1:\n",
    "        continue\n",
    "    if i == 3:\n",
    "        continue\n",
    "    if i == 5:\n",
    "        continue\n",
    "    if i == 7:\n",
    "        continue\n",
    "    if i == 9:\n",
    "        continue\n",
    "    print(i)"
   ]
  },
  {
   "cell_type": "markdown",
   "metadata": {},
   "source": [
    "### Practice Task \n",
    " Write a program which works same as python builtin `sum()` function "
   ]
  },
  {
   "cell_type": "code",
   "execution_count": 52,
   "metadata": {},
   "outputs": [
    {
     "name": "stdout",
     "output_type": "stream",
     "text": [
      "Enter numbers seperated by a comma : 1,2,3\n",
      "Initial List:  ['1', '2', '3']\n",
      "Updated List:  [1, 2, 3]\n",
      "Sum:  6\n"
     ]
    }
   ],
   "source": [
    "list_num = input('Enter numbers seperated by a comma : ').split(',')\n",
    "print(\"Initial List: \", list_num)\n",
    "count = 0\n",
    "for ind , val in enumerate(list_num):\n",
    "    #print(ind, int(val) , type(int(val)))\n",
    "    list_num[ind] = int(val)\n",
    "\n",
    "print(\"Updated List: \", list_num)\n",
    "\n",
    "for i in list_num:\n",
    "    count = count + i \n",
    "    \n",
    "print(\"Sum: \",count)\n"
   ]
  },
  {
   "cell_type": "code",
   "execution_count": 49,
   "metadata": {},
   "outputs": [
    {
     "name": "stdout",
     "output_type": "stream",
     "text": [
      "Enter numbers seperated by a comma : 1,2,3\n",
      "0\n",
      "1\n",
      "2\n",
      "Updated List:  ['1', 1, 1]\n"
     ]
    }
   ],
   "source": [
    "list_num = input('Enter numbers seperated by a comma : ').split(',')\n",
    "#print(\"Initial List: \", list_num)\n",
    "count = 0\n",
    "for i in range(len(list_num)+1):\n",
    "    print(i)\n",
    "    \n",
    "    if i == 2:\n",
    "        break\n",
    "    list_num[i+1] = int(list_num[i])\n",
    "#     print(\"out:\",i)\n",
    "#list_num[i+1] = int(list_num[i])\n",
    "\n",
    "print(\"Updated List: \", list_num)"
   ]
  },
  {
   "cell_type": "code",
   "execution_count": 16,
   "metadata": {},
   "outputs": [
    {
     "name": "stdout",
     "output_type": "stream",
     "text": [
      "Index:  0\n",
      "Value:  <class 'str'>\n",
      "Index:  1\n",
      "Value:  <class 'str'>\n",
      "Index:  2\n",
      "Value:  <class 'str'>\n"
     ]
    }
   ],
   "source": [
    "for ind, val in enumerate(['a','b','c']):\n",
    "    print(\"Index: \",ind)\n",
    "    print(\"Value: \",type(val))"
   ]
  },
  {
   "cell_type": "markdown",
   "metadata": {},
   "source": [
    "\n",
    "### PRACTICE TASK: Number guessing game 3\n",
    "\n",
    "- Write a programtat chooses a random integer between 0 and 100 (inclusive)\n",
    "- Ask the user to guess what number has been chosen.\n",
    "- Each time the user enters a guess, the program indicates one of the following:\n",
    "\n",
    "> Too high\n",
    "\n",
    "> Too low\n",
    "\n",
    "> Just right\n",
    "\n",
    "- If the user guesses correctly, the program exits. Otherwise, the user is asked to try again.\n",
    "- The program only exits after the user guesses correctly."
   ]
  },
  {
   "cell_type": "code",
   "execution_count": null,
   "metadata": {},
   "outputs": [],
   "source": []
  },
  {
   "cell_type": "markdown",
   "metadata": {},
   "source": [
    "### PRACTICE TASK:  Dream Vacation\n",
    "Write a program that polls users about their dream vacation. Write a prompt similar to If you could visit one place in the world,\n",
    "where would you go? Include a block of code that prints the results of the poll."
   ]
  },
  {
   "cell_type": "code",
   "execution_count": null,
   "metadata": {},
   "outputs": [],
   "source": []
  },
  {
   "cell_type": "markdown",
   "metadata": {},
   "source": [
    "### PRACTICE TASK:\n",
    "\n",
    "Write a program that tracks rainfall in a number of cities. \n",
    "- Users of your program will enter the name of a city.\n",
    "- Then the program should also ask the user how much rain has fallen in that city (typically measured in millimeters). \n",
    "- After the user enters the quantity of rain, the program again asks them for a city name, rainfall amount, and so on—until the user presses Enter instead of typing the name of a city.\n",
    "- When the user enters a blank city name, the program exits—but first, it reports how much total rainfall there was in each city"
   ]
  },
  {
   "cell_type": "markdown",
   "metadata": {},
   "source": [
    "## TUPLE:\n",
    "### Tuple creation :"
   ]
  },
  {
   "cell_type": "code",
   "execution_count": null,
   "metadata": {},
   "outputs": [],
   "source": [
    "[1,2,3] #list    #mutable (changeable)\n",
    "(1,2,3) #tuple   #immutable   # fast speed "
   ]
  },
  {
   "cell_type": "markdown",
   "metadata": {},
   "source": [
    "##### Create an empty tuple."
   ]
  },
  {
   "cell_type": "code",
   "execution_count": 1,
   "metadata": {},
   "outputs": [
    {
     "data": {
      "text/plain": [
       "()"
      ]
     },
     "execution_count": 1,
     "metadata": {},
     "output_type": "execute_result"
    }
   ],
   "source": [
    "t = tuple()\n",
    "t\n",
    "# Output: ()"
   ]
  },
  {
   "cell_type": "markdown",
   "metadata": {},
   "source": [
    "##### Create a tuple, also called tuple packing."
   ]
  },
  {
   "cell_type": "code",
   "execution_count": 4,
   "metadata": {},
   "outputs": [
    {
     "name": "stdout",
     "output_type": "stream",
     "text": [
      "daniel radcliff\n"
     ]
    },
    {
     "data": {
      "text/plain": [
       "('daniel', 'radcliff')"
      ]
     },
     "execution_count": 4,
     "metadata": {},
     "output_type": "execute_result"
    }
   ],
   "source": [
    "fname = \"daniel\"\n",
    "lname = \"radcliff\"\n",
    "print(fname , lname)\n",
    "fullname = fname , lname\n",
    "fullname"
   ]
  },
  {
   "cell_type": "code",
   "execution_count": 7,
   "metadata": {},
   "outputs": [
    {
     "data": {
      "text/plain": [
       "(1, 2, 3)"
      ]
     },
     "execution_count": 7,
     "metadata": {},
     "output_type": "execute_result"
    }
   ],
   "source": [
    "num = 1,2,3\n",
    "num"
   ]
  },
  {
   "cell_type": "markdown",
   "metadata": {},
   "source": [
    "##### Create tuple with paranthesis."
   ]
  },
  {
   "cell_type": "code",
   "execution_count": 2,
   "metadata": {},
   "outputs": [
    {
     "data": {
      "text/plain": [
       "()"
      ]
     },
     "execution_count": 2,
     "metadata": {},
     "output_type": "execute_result"
    }
   ],
   "source": [
    "t = ()\n",
    "t"
   ]
  },
  {
   "cell_type": "markdown",
   "metadata": {},
   "source": [
    "##### Create a tuple with one item. Note that the trailing comma is necessary"
   ]
  },
  {
   "cell_type": "code",
   "execution_count": 11,
   "metadata": {},
   "outputs": [
    {
     "data": {
      "text/plain": [
       "(1,)"
      ]
     },
     "execution_count": 11,
     "metadata": {},
     "output_type": "execute_result"
    }
   ],
   "source": [
    "# Output: (1,)\n",
    "\n",
    "num = (1,) \n",
    "num"
   ]
  },
  {
   "cell_type": "markdown",
   "metadata": {},
   "source": [
    "##### Create a tuple with heterogenous items."
   ]
  },
  {
   "cell_type": "code",
   "execution_count": 1,
   "metadata": {},
   "outputs": [
    {
     "data": {
      "text/plain": [
       "('Hey', (1, 2, 3), 1, 4.5, ['you'])"
      ]
     },
     "execution_count": 1,
     "metadata": {},
     "output_type": "execute_result"
    }
   ],
   "source": [
    "# Output: (\"Hey\", (1, 2), 1, [\"you\"])\n",
    "\n",
    "tup = (\"Hey\", (1,2,3) , 1 , 4.5 , [\"you\"])\n",
    "tup"
   ]
  },
  {
   "cell_type": "markdown",
   "metadata": {},
   "source": [
    "##### Create tuple with tuple() constructor."
   ]
  },
  {
   "cell_type": "code",
   "execution_count": 28,
   "metadata": {},
   "outputs": [
    {
     "data": {
      "text/plain": [
       "(1, 2)"
      ]
     },
     "execution_count": 28,
     "metadata": {},
     "output_type": "execute_result"
    }
   ],
   "source": [
    "# Output: ()\n",
    "tuple((1,  2))\n",
    "# Output: (1, 2)"
   ]
  },
  {
   "cell_type": "markdown",
   "metadata": {},
   "source": [
    "###  Methods on tuples \n",
    "##### Get length of list by using len() method.\n"
   ]
  },
  {
   "cell_type": "code",
   "execution_count": 18,
   "metadata": {},
   "outputs": [
    {
     "data": {
      "text/plain": [
       "2"
      ]
     },
     "execution_count": 18,
     "metadata": {},
     "output_type": "execute_result"
    }
   ],
   "source": [
    "len(tuple((1,2)))"
   ]
  },
  {
   "cell_type": "markdown",
   "metadata": {},
   "source": [
    "##### Get index of an element using the index() method."
   ]
  },
  {
   "cell_type": "code",
   "execution_count": null,
   "metadata": {},
   "outputs": [],
   "source": []
  },
  {
   "cell_type": "markdown",
   "metadata": {},
   "source": [
    "###### Count occurences of an item in a tuple."
   ]
  },
  {
   "cell_type": "code",
   "execution_count": null,
   "metadata": {},
   "outputs": [],
   "source": []
  },
  {
   "cell_type": "markdown",
   "metadata": {},
   "source": [
    "###### Access elements of a tuple by indexing."
   ]
  },
  {
   "cell_type": "code",
   "execution_count": null,
   "metadata": {},
   "outputs": [],
   "source": [
    "str_tuple = \"hey\", \"there!\", \"how\", \"are\", \"you?\""
   ]
  },
  {
   "cell_type": "markdown",
   "metadata": {},
   "source": [
    "### Slicing a tuple."
   ]
  },
  {
   "cell_type": "code",
   "execution_count": 3,
   "metadata": {},
   "outputs": [],
   "source": [
    "# Output: (\"how\", \"are\", \"you?\")\n",
    "# Output: (\"hey\", \"there!\")\n",
    "# Output: (\"how\", \"are\", \"you?\")\n",
    "# Output: (\"hey\", \"there!\")\n",
    "# Output: (\"there!\", \"how\", \"are\")"
   ]
  },
  {
   "cell_type": "markdown",
   "metadata": {},
   "source": [
    "### Get a copy of the tuple by slicing.\n"
   ]
  },
  {
   "cell_type": "code",
   "execution_count": null,
   "metadata": {},
   "outputs": [],
   "source": []
  },
  {
   "cell_type": "markdown",
   "metadata": {},
   "source": [
    "### Concatenate tuples."
   ]
  },
  {
   "cell_type": "code",
   "execution_count": 6,
   "metadata": {},
   "outputs": [],
   "source": [
    "# Output: (1, 2, \"Hey\", \"there\")\n"
   ]
  },
  {
   "cell_type": "markdown",
   "metadata": {},
   "source": [
    "### Tuples are immutable, that is, we cannot change its contents."
   ]
  },
  {
   "cell_type": "code",
   "execution_count": null,
   "metadata": {},
   "outputs": [],
   "source": []
  },
  {
   "cell_type": "markdown",
   "metadata": {},
   "source": [
    "### Looping through tuple using 'in'.\n",
    " "
   ]
  },
  {
   "cell_type": "code",
   "execution_count": null,
   "metadata": {},
   "outputs": [],
   "source": []
  },
  {
   "cell_type": "markdown",
   "metadata": {},
   "source": [
    "### Check if element is present in tuple."
   ]
  },
  {
   "cell_type": "code",
   "execution_count": null,
   "metadata": {},
   "outputs": [],
   "source": []
  },
  {
   "cell_type": "markdown",
   "metadata": {},
   "source": [
    "### Delete tuple using del keyword."
   ]
  },
  {
   "cell_type": "code",
   "execution_count": null,
   "metadata": {},
   "outputs": [],
   "source": []
  },
  {
   "cell_type": "markdown",
   "metadata": {},
   "source": [
    "### Tuple sequence unpacking. "
   ]
  },
  {
   "cell_type": "code",
   "execution_count": null,
   "metadata": {},
   "outputs": [],
   "source": []
  },
  {
   "cell_type": "code",
   "execution_count": null,
   "metadata": {},
   "outputs": [],
   "source": []
  },
  {
   "cell_type": "markdown",
   "metadata": {},
   "source": [
    "##### TASK\n",
    "Create a program that accepts a single word and returns the number of vowels in that word. \n",
    "In this function, only a, e, i, o, and u will be counted as vowels — not y."
   ]
  },
  {
   "cell_type": "code",
   "execution_count": null,
   "metadata": {},
   "outputs": [],
   "source": []
  },
  {
   "cell_type": "markdown",
   "metadata": {},
   "source": [
    "## SETS:\n",
    "###### Create an empty set using the constructor method."
   ]
  },
  {
   "cell_type": "code",
   "execution_count": null,
   "metadata": {},
   "outputs": [],
   "source": [
    "# numbers = set() \n",
    "# print(numbers) # Output: set()"
   ]
  },
  {
   "cell_type": "markdown",
   "metadata": {},
   "source": [
    "######  set() constructor function takes an iterable as input."
   ]
  },
  {
   "cell_type": "code",
   "execution_count": null,
   "metadata": {},
   "outputs": [],
   "source": [
    "# numbers = set([1, 2])\n",
    "# print(numbers) # Output: {1, 2}\n",
    "# string_set = set(\"hello\")\n",
    "# print(string_set) # Output: {'o', 'e', 'l', 'h'}"
   ]
  },
  {
   "cell_type": "markdown",
   "metadata": {},
   "source": [
    "######  Sets with some elements can also be created using {}."
   ]
  },
  {
   "cell_type": "code",
   "execution_count": null,
   "metadata": {},
   "outputs": [],
   "source": [
    "# numbers = {1, 2, 1, 2, 3, 5}\n",
    "# print(numbers) # Output: {1, 2, 3, 5}"
   ]
  },
  {
   "cell_type": "markdown",
   "metadata": {},
   "source": [
    "######  Set contains only unique elements. But they can contain elements of different types."
   ]
  },
  {
   "cell_type": "code",
   "execution_count": null,
   "metadata": {},
   "outputs": [],
   "source": [
    "# random_set = {'a', 'a', 1, 2, 1}\n",
    "# print(random_set) # Output: {1, 2, 'a'}"
   ]
  },
  {
   "cell_type": "markdown",
   "metadata": {},
   "source": [
    "###### Sets can contain only hashable elements.Sets cannot contain other sets."
   ]
  },
  {
   "cell_type": "code",
   "execution_count": null,
   "metadata": {},
   "outputs": [],
   "source": [
    "# # my_set = {1, 2}\n",
    "# set_to_add = {3, 4}\n",
    "# my_set.add(set_to_add) # Raises \"TypeError: unhashable type: 'set'\""
   ]
  },
  {
   "cell_type": "markdown",
   "metadata": {},
   "source": [
    "######  To create set of sets, use a frozenset"
   ]
  },
  {
   "cell_type": "code",
   "execution_count": null,
   "metadata": {},
   "outputs": [],
   "source": [
    "# my_set.add(frozenset(set_to_add))\n",
    "# print(my_set) # Output: {1, 2, frozenset({3, 4})}"
   ]
  },
  {
   "cell_type": "markdown",
   "metadata": {},
   "source": [
    "######  Length of a set."
   ]
  },
  {
   "cell_type": "code",
   "execution_count": null,
   "metadata": {},
   "outputs": [],
   "source": [
    "# numbers = {1, 2, 3}\n",
    "# print(len(numbers)) # Output: 3"
   ]
  },
  {
   "cell_type": "markdown",
   "metadata": {},
   "source": [
    "######  Check if an element is in a set using 'in'"
   ]
  },
  {
   "cell_type": "code",
   "execution_count": null,
   "metadata": {},
   "outputs": [],
   "source": [
    "# print(1 in {1, 2, 3}) # Output: True\n",
    "# print(5 in {1, 2, 3}) # Output: False\n",
    "# print(1 not in {1, 2, 3}) # Output: False"
   ]
  },
  {
   "cell_type": "markdown",
   "metadata": {},
   "source": [
    "######  Access elements in a set"
   ]
  },
  {
   "cell_type": "code",
   "execution_count": null,
   "metadata": {},
   "outputs": [],
   "source": [
    "# numbers = {1, 2, 3}\n",
    "# for number in numbers:\n",
    "#   print(number)"
   ]
  },
  {
   "cell_type": "markdown",
   "metadata": {},
   "source": [
    "######  Union: Elements in either set_1, set_2 or both."
   ]
  },
  {
   "cell_type": "code",
   "execution_count": 5,
   "metadata": {},
   "outputs": [],
   "source": [
    "# set_1 = {1, 2, 3, 4}\n",
    "# set_2 = {3, 4, 5, 6}\n",
    "# print(set_1.union(set_2)) # Output: {1, 2, 3, 4, 5, 6}\n",
    "# print(set_1 | set_2) # Output: {1, 2, 3, 4, 5, 6}"
   ]
  },
  {
   "cell_type": "markdown",
   "metadata": {},
   "source": [
    "######  Intersection: Elements in both set_1 and set_2"
   ]
  },
  {
   "cell_type": "code",
   "execution_count": null,
   "metadata": {},
   "outputs": [],
   "source": [
    "# set_1 = {1, 2, 3, 4}\n",
    "# set_2 = {3, 4, 5, 6}\n",
    "# print(set_1.intersection(set_2)) # Output: {3, 4}\n",
    "# print(set_1 & set_2) # Output: {3, 4}"
   ]
  },
  {
   "cell_type": "markdown",
   "metadata": {},
   "source": [
    "######  Set difference: Elements in set_1 not in set_2"
   ]
  },
  {
   "cell_type": "code",
   "execution_count": 6,
   "metadata": {},
   "outputs": [],
   "source": [
    "# set_1 = {1, 2, 3, 4}\n",
    "# set_2 = {3, 4, 5, 6}\n",
    "# print(set_1.difference(set_2)) # Output: {1, 2}\n",
    "# print(set_1 - set_2) # Output: {1, 2}"
   ]
  },
  {
   "cell_type": "markdown",
   "metadata": {},
   "source": [
    "######  Symmetric difference: Elements in set_1 or set_2, but not in both."
   ]
  },
  {
   "cell_type": "code",
   "execution_count": null,
   "metadata": {},
   "outputs": [],
   "source": [
    "# set_1 = {1, 2, 3, 4}\n",
    "# set_2 = {3, 4, 5, 6}\n",
    "# print(set_1.symmetric_difference(set_2)) # Output: {1, 2, 5, 6}\n",
    "# print(set_1 ^ set_2) # Output: {1, 2, 5, 6}"
   ]
  },
  {
   "cell_type": "markdown",
   "metadata": {},
   "source": [
    "######  Check if a set is a subset of another."
   ]
  },
  {
   "cell_type": "code",
   "execution_count": null,
   "metadata": {},
   "outputs": [],
   "source": [
    "# set_1 = {1, 2}\n",
    "# set_2 = {1, 2, 3}\n",
    "# print(set_1.issubset(set_2)) # Output: True\n",
    "# print(set_2.issubset(set_1)) # Output: False"
   ]
  },
  {
   "cell_type": "markdown",
   "metadata": {},
   "source": [
    "######  Check if a set is a superset of another."
   ]
  },
  {
   "cell_type": "code",
   "execution_count": null,
   "metadata": {},
   "outputs": [],
   "source": [
    "# # set_1 = {1, 2}\n",
    "# set_2 = {1, 2, 3}\n",
    "# print(set_1.issuperset(set_2)) # Output: False\n",
    "# print(set_2.issuperset(set_1)) # Output: True"
   ]
  },
  {
   "cell_type": "markdown",
   "metadata": {},
   "source": [
    "######  Add one element to set using add() methd."
   ]
  },
  {
   "cell_type": "code",
   "execution_count": null,
   "metadata": {},
   "outputs": [],
   "source": [
    "# numbers = {1, 2, 3}\n",
    "# numbers.add(4) # <- takes a single hashable element.\n",
    "# print(numbers) # Output: {1, 2, 3, 4}"
   ]
  },
  {
   "cell_type": "markdown",
   "metadata": {},
   "source": [
    "######  Add multiple elements to set using update() methd."
   ]
  },
  {
   "cell_type": "code",
   "execution_count": null,
   "metadata": {},
   "outputs": [],
   "source": [
    "# numbers = {1, 2, 3}\n",
    "# numbers.update([4, 5]) # <- takes any iterable.\n",
    "# print(numbers) # Output: {1, 2, 3, 4, 5}"
   ]
  },
  {
   "cell_type": "markdown",
   "metadata": {},
   "source": [
    "######  Remove elements using remove() method."
   ]
  },
  {
   "cell_type": "code",
   "execution_count": null,
   "metadata": {},
   "outputs": [],
   "source": [
    "# numbers = {1, 2, 3}\n",
    "# numbers.remove(1)\n",
    "# print(numbers) # Output: {2, 3}\n",
    "# numbers.remove(5) # Raises KeyError if element is not present."
   ]
  },
  {
   "cell_type": "markdown",
   "metadata": {},
   "source": [
    "######  Remove elements using discard element."
   ]
  },
  {
   "cell_type": "code",
   "execution_count": null,
   "metadata": {},
   "outputs": [],
   "source": [
    "# numbers = {1, 2, 3}\n",
    "# numbers.discard(1)\n",
    "# print(numbers) # Output: {2, 3}\n",
    "# numbers.discard(5) # Does not raise any error even if element is not present."
   ]
  },
  {
   "cell_type": "markdown",
   "metadata": {},
   "source": [
    "######  Remove and get the last item in a set, sets are unordered so any element could get removed!"
   ]
  },
  {
   "cell_type": "code",
   "execution_count": null,
   "metadata": {},
   "outputs": [],
   "source": [
    "# numbers = {1, 2, 3}\n",
    "# print(numbers.pop()) # Output: 3\n",
    "# print(numbers) # Output: {1, 2}"
   ]
  },
  {
   "cell_type": "markdown",
   "metadata": {},
   "source": [
    "######  Empty set using clear()"
   ]
  },
  {
   "cell_type": "code",
   "execution_count": null,
   "metadata": {},
   "outputs": [],
   "source": [
    "# numbers = {1, 2, 3}\n",
    "# numbers.clear()\n",
    "# print(numbers) # Output: set()"
   ]
  },
  {
   "cell_type": "markdown",
   "metadata": {},
   "source": [
    "######  Delete set using del keyword"
   ]
  },
  {
   "cell_type": "code",
   "execution_count": null,
   "metadata": {},
   "outputs": [],
   "source": [
    "# numbers = {1, 2}\n",
    "# del numbers"
   ]
  }
 ],
 "metadata": {
  "kernelspec": {
   "display_name": "Python 3",
   "language": "python",
   "name": "python3"
  },
  "language_info": {
   "codemirror_mode": {
    "name": "ipython",
    "version": 3
   },
   "file_extension": ".py",
   "mimetype": "text/x-python",
   "name": "python",
   "nbconvert_exporter": "python",
   "pygments_lexer": "ipython3",
   "version": "3.7.3"
  }
 },
 "nbformat": 4,
 "nbformat_minor": 2
}
